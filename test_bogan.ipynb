{
 "cells": [
  {
   "cell_type": "code",
   "execution_count": 1,
   "metadata": {},
   "outputs": [],
   "source": [
    "import os\n",
    "import torch\n",
    "device = 'cuda' if torch.cuda.is_available() else 'cpu'\n",
    "from transformers import BitsAndBytesConfig, AutoTokenizer, GPTNeoXForCausalLM\n",
    "from peft import PeftModel\n",
    "import json"
   ]
  },
  {
   "cell_type": "code",
   "execution_count": 3,
   "metadata": {},
   "outputs": [],
   "source": [
    "Qconfig = BitsAndBytesConfig(\n",
    "            load_in_8bit=True,\n",
    "            llm_int8_threshold=6.0,\n",
    "            load_in_8bit_skip_modules=\"embed_in,embed_out\",\n",
    "            bnb_4bit_compute_dtype=torch.float16,\n",
    "            bnb_4bit_use_double_quant=True,\n",
    "            bnb_4bit_quant_type=\"nf4\"\n",
    ")"
   ]
  },
  {
   "cell_type": "code",
   "execution_count": null,
   "metadata": {},
   "outputs": [],
   "source": [
    "tokenizer=AutoTokenizer.from_pretrained('EleutherAI/polyglot-ko-12.8b')\n",
    "model=GPTNeoXForCausalLM.from_pretrained('EleutherAI/polyglot-ko-12.8b', quantization_config=Qconfig)\n"
   ]
  },
  {
   "cell_type": "code",
   "execution_count": null,
   "metadata": {},
   "outputs": [],
   "source": [
    "model_id_='output/sft_lora_model'\n",
    "model=PeftModel.from_pretrained(model,model_id_)"
   ]
  },
  {
   "cell_type": "code",
   "execution_count": 1,
   "metadata": {},
   "outputs": [],
   "source": [
    "PROMPT_TEMPLATE = (\n",
    "    \"[INST] <<SYS>>\\n\"\n",
    "    \"You are a helpful AI assistant. 당신은 유능한 AI 어시스턴트 입니다. 당신은 일관성과 논리적 흐름을 유지하면서 문장1과 문장3을 자연스럽게 연결하는 역할을 하는 문장 2를 생성합니다.\\n\"\n",
    "    \"<</SYS>>\\n\\n{instruction} [/INST]\"\n",
    ")"
   ]
  },
  {
   "cell_type": "code",
   "execution_count": 3,
   "metadata": {},
   "outputs": [],
   "source": [
    "json_file_path = 'data/test/test.json'\n",
    "\n",
    "with open(json_file_path, 'r', encoding='utf-8') as json_file:\n",
    "    json_data = json.load(json_file)"
   ]
  },
  {
   "cell_type": "code",
   "execution_count": null,
   "metadata": {},
   "outputs": [],
   "source": [
    "bogan_list=[]\n",
    "for i in range(len(json_data)):\n",
    "    sentence1 = json_data[i][\"input\"].split(\"\\n\")[0].replace(\"\", \"\")\n",
    "    sentence2 = json_data[i][\"input\"].split(\"\\n\")[1].replace(\"\", \"\")\n",
    "\n",
    "    input_text = f\"{sentence1}\\n{sentence2}\\n\"\n",
    "    source = PROMPT_TEMPLATE.format_map({'instruction':input_text})\n",
    "    tokened = tokenizer(source, return_tensors=\"pt\").to(device)\n",
    "\n",
    "    with torch.no_grad():\n",
    "        bogan_ids = model.generate(input_ids=tokened.input_ids, attention_mask=tokened.attention_mask ,max_length=512,\n",
    "            do_sample=True,\n",
    "            top_k=20,\n",
    "            top_p=0.92,\n",
    "            num_beams=5,\n",
    "            eos_token_id=tokenizer.eos_token_id\n",
    "        )\n",
    "\n",
    "        bogan = tokenizer.decode(bogan_ids[0], skip_special_tokens=True)\n",
    "\n",
    "        bogan_list.append(bogan[143:])\n",
    "    print(f\"{i+1}번째 완료\")"
   ]
  },
  {
   "cell_type": "code",
   "execution_count": null,
   "metadata": {},
   "outputs": [],
   "source": [
    "bogan_list[:5]"
   ]
  },
  {
   "cell_type": "code",
   "execution_count": null,
   "metadata": {},
   "outputs": [],
   "source": [
    "ready_list=[]\n",
    "for text in bogan_list:\n",
    "    index = text.find('문장2:')\n",
    "    if index != -1:\n",
    "        sentence2 = text[index+5:]\n",
    "        ready_list.append(sentence2)"
   ]
  },
  {
   "cell_type": "code",
   "execution_count": null,
   "metadata": {},
   "outputs": [],
   "source": [
    "file_path = \"origindata/nikluge-sc-2023-test.jsonl\"\n",
    "output_file_path = \"outputs.jsonl\""
   ]
  },
  {
   "cell_type": "code",
   "execution_count": null,
   "metadata": {},
   "outputs": [],
   "source": [
    "with open(file_path, \"r\", encoding=\"utf-8\") as input_file:\n",
    "\n",
    "    lines = input_file.readlines()\n",
    "\n",
    "    for i, line in enumerate(lines):\n",
    "        data = json.loads(line)\n",
    "\n",
    "        data[\"output\"] = ready_list[i]\n",
    "\n",
    "        with open(output_file_path, \"a\", encoding=\"utf-8\") as output_file:\n",
    "            json.dump(data, output_file, ensure_ascii=False)\n",
    "            output_file.write(\"\\n\")"
   ]
  }
 ],
 "metadata": {
  "kernelspec": {
   "display_name": ".summary",
   "language": "python",
   "name": "python3"
  },
  "language_info": {
   "codemirror_mode": {
    "name": "ipython",
    "version": 3
   },
   "file_extension": ".py",
   "mimetype": "text/x-python",
   "name": "python",
   "nbconvert_exporter": "python",
   "pygments_lexer": "ipython3",
   "version": "3.8.8"
  }
 },
 "nbformat": 4,
 "nbformat_minor": 2
}
