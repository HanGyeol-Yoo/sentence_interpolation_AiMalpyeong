{
 "cells": [
  {
   "cell_type": "code",
   "execution_count": 1,
   "metadata": {},
   "outputs": [],
   "source": [
    "import json\n",
    "\n",
    "output_list = []\n",
    "\n",
    "with open('nikluge-sc-2023-train.jsonl', 'r') as file:\n",
    "    for line in file:\n",
    "        data = json.loads(line)\n",
    "        \n",
    "        input_text = f\"문장1: {data['input']['sentence1']}\\n문장3: {data['input']['sentence3']}\"\n",
    "        output_text = f\"문장2: {data['output']}\"\n",
    "        \n",
    "        output_dict = {\n",
    "            \"instruction\": \"\",\n",
    "            \"input\": input_text,\n",
    "            \"output\": output_text\n",
    "        }\n",
    "        \n",
    "        output_list.append(output_dict)\n",
    "\n",
    "output_json = json.dumps(output_list, ensure_ascii=False, indent=2)\n",
    "\n",
    "with open('../data/train/train.json', 'w', encoding='utf-8') as output_file:\n",
    "    output_file.write(output_json)"
   ]
  },
  {
   "cell_type": "code",
   "execution_count": 2,
   "metadata": {},
   "outputs": [],
   "source": [
    "import json\n",
    "\n",
    "output_list = []\n",
    "\n",
    "with open('nikluge-sc-2023-dev.jsonl', 'r') as file:\n",
    "    for line in file:\n",
    "        data = json.loads(line)\n",
    "        \n",
    "        input_text = f\"문장1: {data['input']['sentence1']}\\n문장3: {data['input']['sentence3']}\"\n",
    "        output_text = f\"문장2: {data['output']}\"\n",
    "        \n",
    "        output_dict = {\n",
    "            \"instruction\": \"\",\n",
    "            \"input\": input_text,\n",
    "            \"output\": output_text\n",
    "        }\n",
    "        \n",
    "        output_list.append(output_dict)\n",
    "\n",
    "output_json = json.dumps(output_list, ensure_ascii=False, indent=2)\n",
    "\n",
    "with open('../data/val/val.json', 'w', encoding='utf-8') as output_file:\n",
    "    output_file.write(output_json)"
   ]
  },
  {
   "cell_type": "code",
   "execution_count": 1,
   "metadata": {},
   "outputs": [],
   "source": [
    "import json\n",
    "\n",
    "output_list = []\n",
    "\n",
    "with open('nikluge-sc-2023-test.jsonl', 'r') as file:\n",
    "    for line in file:\n",
    "        data = json.loads(line)\n",
    "        \n",
    "        input_text = f\"문장1: {data['input']['sentence1']}\\n문장3: {data['input']['sentence3']}\"\n",
    "        output_text = f\"문장2: {data['output']}\"\n",
    "        \n",
    "        output_dict = {\n",
    "            \"instruction\": \"\",\n",
    "            \"input\": input_text,\n",
    "            \"output\": output_text\n",
    "        }\n",
    "        \n",
    "        output_list.append(output_dict)\n",
    "\n",
    "output_json = json.dumps(output_list, ensure_ascii=False, indent=2)\n",
    "\n",
    "with open('../data/test/test.json', 'w', encoding='utf-8') as output_file:\n",
    "    output_file.write(output_json)"
   ]
  },
  {
   "cell_type": "code",
   "execution_count": null,
   "metadata": {},
   "outputs": [],
   "source": []
  }
 ],
 "metadata": {
  "kernelspec": {
   "display_name": "first",
   "language": "python",
   "name": "python3"
  },
  "language_info": {
   "codemirror_mode": {
    "name": "ipython",
    "version": 3
   },
   "file_extension": ".py",
   "mimetype": "text/x-python",
   "name": "python",
   "nbconvert_exporter": "python",
   "pygments_lexer": "ipython3",
   "version": "3.11.5"
  }
 },
 "nbformat": 4,
 "nbformat_minor": 2
}
